{
 "cells": [
  {
   "cell_type": "code",
   "execution_count": null,
   "metadata": {
    "collapsed": true
   },
   "outputs": [],
   "source": [
    "# set path for modules\n",
    "import sys, os\n",
    "sys.path.append(os.getcwd()[:os.getcwd().rfind('/')])"
   ]
  },
  {
   "cell_type": "code",
   "execution_count": null,
   "metadata": {
    "collapsed": false
   },
   "outputs": [],
   "source": [
    "# imports\n",
    "from smiles import evaluator\n",
    "from util import h5util"
   ]
  },
  {
   "cell_type": "code",
   "execution_count": null,
   "metadata": {
    "collapsed": false
   },
   "outputs": [],
   "source": [
    "data_file = h5util.input_file('~/data.h5')\n",
    "predictions_file = h5util.input_file('~/predictions.h5')\n",
    "data = data_file['structure']\n",
    "predictions = predictions_file['structure']"
   ]
  },
  {
   "cell_type": "code",
   "execution_count": null,
   "metadata": {
    "collapsed": false
   },
   "outputs": [],
   "source": [
    "nr_characters, nr_correct, nr_spaces, nr_correct_spaces = evaluator.count_correct_characters(data, predictions, 120)"
   ]
  },
  {
   "cell_type": "code",
   "execution_count": null,
   "metadata": {
    "collapsed": false
   },
   "outputs": [],
   "source": [
    "print('Correct characters:')\n",
    "print(str(nr_correct) + '/' + str(nr_characters) + ' = ' + str((nr_correct/nr_characters)*100) + '%')\n",
    "print('\\nCorrect characters (without spaces):')\n",
    "print(str(nr_correct-nr_correct_spaces) + '/' + str(nr_characters-nr_correct_spaces) + ' = ' + str(((nr_correct-nr_correct_spaces)/(nr_characters-nr_correct_spaces))*100) + '%')\n",
    "print('\\nCorrect spaces:')\n",
    "print(str(nr_correct_spaces) + '/' + str(nr_spaces) + ' = ' + str((nr_correct_spaces/nr_spaces)*100) + '%')\n",
    "print('\\nSpaces in strings:')\n",
    "print(str(nr_spaces) + '/' + str(nr_characters) + ' = ' + str((nr_spaces/nr_characters)*100) + '%')"
   ]
  },
  {
   "cell_type": "code",
   "execution_count": null,
   "metadata": {
    "collapsed": true
   },
   "outputs": [],
   "source": [
    "data_file.close()\n",
    "predictions_file.close()"
   ]
  }
 ],
 "metadata": {
  "kernelspec": {
   "display_name": "Python [default]",
   "language": "python",
   "name": "python3"
  },
  "language_info": {
   "codemirror_mode": {
    "name": "ipython",
    "version": 3
   },
   "file_extension": ".py",
   "mimetype": "text/x-python",
   "name": "python",
   "nbconvert_exporter": "python",
   "pygments_lexer": "ipython3",
   "version": "3.5.2"
  }
 },
 "nbformat": 4,
 "nbformat_minor": 2
}
